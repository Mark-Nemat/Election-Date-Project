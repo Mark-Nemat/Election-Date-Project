{
  "nbformat": 4,
  "nbformat_minor": 0,
  "metadata": {
    "colab": {
      "provenance": [],
      "authorship_tag": "ABX9TyMN1CciUQXGVfmkZ7fngZ5r",
      "include_colab_link": true
    },
    "kernelspec": {
      "name": "python3",
      "display_name": "Python 3"
    },
    "language_info": {
      "name": "python"
    }
  },
  "cells": [
    {
      "cell_type": "markdown",
      "metadata": {
        "id": "view-in-github",
        "colab_type": "text"
      },
      "source": [
        "<a href=\"https://colab.research.google.com/github/Mark-Nemat/Election-Date-Project/blob/master/Olympics.ipynb\" target=\"_parent\"><img src=\"https://colab.research.google.com/assets/colab-badge.svg\" alt=\"Open In Colab\"/></a>"
      ]
    },
    {
      "cell_type": "code",
      "source": [
        "from google.colab import drive\n",
        "drive.mount('/content/drive')"
      ],
      "metadata": {
        "id": "pNf5UCG2zti_"
      },
      "execution_count": null,
      "outputs": []
    },
    {
      "cell_type": "code",
      "source": [
        "import pandas as pd\n",
        "import matplotlib.pyplot as plt\n",
        "import numpy as np\n",
        "\n",
        "# Load the data (replace 'olympic_medals.csv' with the actual file path)\n",
        "df = pd.read_csv('olympic_medals[1].csv')\n",
        "\n",
        "df_usa = df[(df['country_name'] == 'United States of America') &\n",
        "            (df['slug_game'].isin(['tokyo-2020', 'rio-2016', 'london-2012']))]\n",
        "\n",
        "medal_counts = df_usa.groupby(['slug_game', 'medal_type']).size().unstack(fill_value=0)\n",
        "\n",
        "\n",
        "games = []\n",
        "for row in medal_counts.iterrows():\n",
        "    games.append(row[0])\n",
        "\n",
        "width = 0.25  # the width of the bars\n",
        "multiplier = 0\n",
        "x = np.arange(len(games))\n",
        "print(x)  # the label locations\n",
        "\n",
        "fig, ax = plt.subplots(layout='constrained')\n",
        "\n",
        "for attribute, measurement in medal_counts.items():\n",
        "    offset = width * multiplier\n",
        "    rects = ax.bar(x + offset, measurement, width, label=attribute)\n",
        "    ax.bar_label(rects, padding=3)\n",
        "    multiplier += 1\n",
        "\n",
        "# Add some text for labels, title and custom x-axis tick labels, etc.\n",
        "ax.set_ylabel('Length (mm)')\n",
        "ax.set_title('United States of America Olympic Medal Count')\n",
        "ax.set_xticks(x + width, games)\n",
        "ax.legend(loc='upper left', ncols=3)\n",
        "ax.set_ylim(0, 75)\n",
        "\n",
        "plt.show()"
      ],
      "metadata": {
        "colab": {
          "base_uri": "https://localhost:8080/",
          "height": 525
        },
        "id": "_qISqJjQF_cY",
        "outputId": "b4d40d70-4da8-40bf-b449-2272b0ce4e48"
      },
      "execution_count": null,
      "outputs": [
        {
          "output_type": "stream",
          "name": "stdout",
          "text": [
            "[0 1 2]\n"
          ]
        },
        {
          "output_type": "display_data",
          "data": {
            "text/plain": [
              "<Figure size 640x480 with 1 Axes>"
            ],
            "image/png": "[encoded data removed]"
          },
          "metadata": {}
        }
      ]
    },
    {
      "cell_type": "code",
      "source": [
        "import pandas as pd\n",
        "import scipy.stats as stats\n",
        "import numpy as np\n",
        "\n",
        "# Load your cleaned dataset\n",
        "df = pd.read_csv('olympic_medals[1].csv')\n",
        "print(df.columns)\n",
        "\n",
        "# Ensure df has columns: 'Country', 'Gold', 'Silver', 'Bronze'\n",
        "# Filter for United States\n",
        "us_medals = df[df['country_name'] == 'United States of America']\n",
        "\n",
        "# Calculate Total Gold Medals\n",
        "# Use .loc to index 'us_medals' with the boolean Series and select the 'medal_type' column\n",
        "total_gold_medals = us_medals.loc[us_medals['medal_type'] == 'GOLD', 'medal_type'].count()\n",
        "print(total_gold_medals)\n",
        "\n",
        "# Assuming you have a dataset with the number of events per year\n",
        "# Load events data (this should be a dataset with columns 'Year', 'Country', 'Total_Events')\n",
        "events_data_path = 'olympic_medals[1].csv'\n",
        "events_df = pd.read_csv(events_data_path)\n",
        "\n",
        "# Filter for United States\n",
        "us_events = events_df[events_df['country_name'] == 'United States of America']\n",
        "\n",
        "# Calculate Total Events - count the number of rows instead of summing strings\n",
        "total_events = len(us_events) # Changed this line to count events\n",
        "\n",
        "# Calculate Probability\n",
        "probability_gold = total_gold_medals / total_events\n",
        "print(f\"Probability of the US winning a gold medal in any event: {probability_gold:.4f}\")\n",
        "\n",
        "# Calculate 95% Confidence Interval for the proportion\n",
        "# Using the formula for proportion confidence interval: p ± Z * sqrt(p(1-p)/n)\n",
        "confidence_level = 0.95\n",
        "z_score = stats.norm.ppf(1 - (1 - confidence_level) / 2)\n",
        "margin_of_error = z_score * np.sqrt((probability_gold * (1 - probability_gold)) / total_events)\n",
        "confidence_interval = (probability_gold - margin_of_error, probability_gold + margin_of_error)\n",
        "print(f\"95% Confidence Interval: ({confidence_interval[0]:.4f}, {confidence_interval[1]:.4f})\")\n",
        "\n"
      ],
      "metadata": {
        "colab": {
          "base_uri": "https://localhost:8080/",
          "height": 365
        },
        "id": "nrEMstM79_Fp",
        "outputId": "8cfd398c-1fd8-49b7-bd0b-fe20dfcadf0a"
      },
      "execution_count": null,
      "outputs": [
        {
          "output_type": "stream",
          "name": "stdout",
          "text": [
            "Index(['discipline_title', 'slug_game', 'event_title', 'event_gender',\n",
            "       'medal_type', 'participant_type', 'participant_title', 'athlete_url',\n",
            "       'athlete_full_name', 'country_name', 'country_code',\n",
            "       'country_3_letter_code'],\n",
            "      dtype='object')\n",
            "1222\n",
            "Probability of the US winning a gold medal in any event: 0.3950\n",
            "95% Confidence Interval: (0.3777, 0.4122)\n"
          ]
        },
        {
          "output_type": "execute_result",
          "data": {
            "text/plain": [
              "'\\nimport pandas as pd\\nimport scipy.stats as stats\\nimport numpy as np\\n\\n# Load your cleaned dataset\\ndf = pd.read_csv(\\'olympic_medals[1].csv\\')\\nprint(df.columns)\\n\\n# Ensure df has columns: \\'Country\\', \\'Gold\\', \\'Silver\\', \\'Bronze\\'\\n# Filter for United States\\nus_medals = df[df[\\'country_name\\'] == \\'United States of America\\']\\n\\n# Calculate Total Gold Medals\\n# Use .loc to index \\'us_medals\\' with the boolean Series and select the \\'medal_type\\' column\\ntotal_gold_medals = us_medals.loc[us_medals[\\'medal_type\\'] == \\'GOLD\\', \\'medal_type\\'].count()\\nprint(total_gold_medals)\\n\\n# Assuming you have a dataset with the number of events per year\\n# Load events data (this should be a dataset with columns \\'Year\\', \\'Country\\', \\'Total_Events\\')\\nevents_data_path = \\'olympic_medals[1].csv\\'\\nevents_df = pd.read_csv(events_data_path)\\n\\n# Filter for United States\\nus_events = events_df[events_df[\\'country_name\\'] == \\'United States of America\\']\\n\\n# Calculate Total Events\\ntotal_events = us_events[\\'discipline_title\\'].sum()\\n\\n# Calculate Probability\\nprobability_gold = total_gold_medals / total_events\\nprint(f\"Probability of the US winning a gold medal in any event: {probability_gold:.4f}\")\\n\\n# Calculate 95% Confidence Interval for the proportion\\n# Using the formula for proportion confidence interval: p ± Z * sqrt(p(1-p)/n)\\nconfidence_level = 0.95\\nz_score = stats.norm.ppf(1 - (1 - confidence_level) / 2)\\nmargin_of_error = z_score * np.sqrt((probability_gold * (1 - probability_gold)) / total_events)\\nconfidence_interval = (probability_gold - margin_of_error, probability_gold + margin_of_error)\\nprint(f\"95% Confidence Interval: ({confidence_interval[0]:.4f}, {confidence_interval[1]:.4f})\")\\n\\n# Optional: Trend Analysis\\n# Assuming you have yearly data of gold medals and events, you can plot or analyze trends over time\\nus_yearly = us_events.merge(us_medals[[\\'Year\\', \\'Gold\\']], on=\\'Year\\')\\nus_yearly[\\'Gold_Probability\\'] = us_yearly[\\'Gold\\'] / us_yearly[\\'Total_Events\\']\\nprint(us_yearly[[\\'Year\\', \\'Gold_Probability\\']])\\n'"
            ],
            "application/vnd.google.colaboratory.intrinsic+json": {
              "type": "string"
            }
          },
          "metadata": {},
          "execution_count": 26
        }
      ]
    },
    {
      "cell_type": "code",
      "source": [
        "'''\n",
        "Hello Progressive Analytics Progressional Group.\n",
        "My name is Mark Nemat and I'm a Property Claims Adjuster for Content & Renters.\n",
        "I aspire to transition my career into the analystics department,\n",
        "because I have a passion for finding creative and\n",
        "innovative solutions to real world problems.\n",
        "I chose to participate in this challange because I enjoy watching the Olympics,\n",
        "it's interesting and fan project,\n",
        "and I want to showcase a few my analystical skills.\n",
        "I first wanted to calculate how many Gold, Silver, and Bronze Medals\n",
        "the United States won in the past 3 Olympics.\n",
        "I only choose the past three Olympics because\n",
        "the I wanted a small sample size to make my prediction.\n",
        "New athletes consitantely represent their country\n",
        "and new sports are added to the Olympics.\n",
        "The average Gold medals won by the United State of America\n",
        "in the past three olympics, is 45.66 gold medals.\n",
        "Since I notice the gold medal count has been\n",
        "decending from the past three olympics,\n",
        "I'll round down and guess the United States of America will win\n",
        "45 Gold Medals in the 2024 Paris Olympics.\n",
        "'''\n"
      ],
      "metadata": {
        "id": "uYrunNNN0Z_m"
      },
      "execution_count": null,
      "outputs": []
    }
  ]
}